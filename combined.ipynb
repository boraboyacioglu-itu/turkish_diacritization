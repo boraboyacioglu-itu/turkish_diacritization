{
 "cells": [
  {
   "cell_type": "markdown",
   "metadata": {},
   "source": [
    "# Turkish Diacritisation | YZV 405E NLP Term Project\n",
    "\n",
    "Author: Bora Boyacıoğlu\n",
    "\n",
    "Student ID: 150200310\n",
    "\n",
    "## Step 5: Combination of the Model and the Rule Based Algorithm\n",
    "\n",
    "In this final notebook, I will combine the predictions from the model, and the probabilities from the rule based algorithm."
   ]
  },
  {
   "cell_type": "markdown",
   "metadata": {},
   "source": [
    "Import necessary libraries."
   ]
  },
  {
   "cell_type": "code",
   "execution_count": 45,
   "metadata": {},
   "outputs": [],
   "source": [
    "import csv\n",
    "import json\n",
    "\n",
    "import datetime as dt\n",
    "from typing import Dict, List\n",
    "\n",
    "from dataset import DiacritizationDataset\n",
    "from utils.main_utils import *"
   ]
  },
  {
   "cell_type": "code",
   "execution_count": 46,
   "metadata": {},
   "outputs": [
    {
     "name": "stdout",
     "output_type": "stream",
     "text": [
      "The autoreload extension is already loaded. To reload it, use:\n",
      "  %reload_ext autoreload\n"
     ]
    }
   ],
   "source": [
    "%load_ext autoreload\n",
    "%autoreload 2"
   ]
  },
  {
   "cell_type": "markdown",
   "metadata": {},
   "source": [
    "Define the selection function."
   ]
  },
  {
   "cell_type": "code",
   "execution_count": 47,
   "metadata": {},
   "outputs": [],
   "source": [
    "def select(probs: Dict[str, Dict[str, int]], sent: List[str], pred: List[str]) -> str:\n",
    "    \"\"\"_summary_\n",
    "\n",
    "    Args:\n",
    "        probs (Dict[str, Dict[str, int]]): Probabilities of the words and acronyms.\n",
    "        sent (List[str]): Sentence to diacritize.\n",
    "        pred (List[str]): Predictions from the model.\n",
    "\n",
    "    Returns:\n",
    "        str: Diacritized sentence.\n",
    "    \"\"\"\n",
    "    diacritized = []\n",
    "    \n",
    "    for word in sent:\n",
    "        \n",
    "        ### 1st Case: The word is already in ASCII form.\n",
    "        if word not in probs:\n",
    "            diacritized.append(word)\n",
    "            continue\n",
    "        \n",
    "        ### 2nd Case: There is only one acronym.\n",
    "        if len(probs[word]) == 1:\n",
    "            diacritized.append(list(probs[word].keys())[0])\n",
    "            continue\n",
    "        \n",
    "        ### 3rd Case: There are multiple acronyms.\n",
    "        \n",
    "        # Get the possible acronyms.\n",
    "        possible = list(probs[word].keys()) + [word]  # Add the word itself just in case.\n",
    "        in_pred = False\n",
    "        \n",
    "        for acronym in possible:\n",
    "            # Check if the acronym is in the prediction.\n",
    "            if acronym not in pred:\n",
    "                continue\n",
    "            \n",
    "            ## 3.1. Case: Select the acronym and break.\n",
    "            diacritized.append(acronym)\n",
    "            in_pred = True\n",
    "            break\n",
    "        \n",
    "        ## 3.2. Case: Select the most probable acronym.\n",
    "        if not in_pred:\n",
    "            most_probable = max(probs[word], key=probs[word].get)\n",
    "            diacritized.append(most_probable)\n",
    "    \n",
    "    # Return the diacritized sentence.\n",
    "    return ' '.join(diacritized)"
   ]
  },
  {
   "cell_type": "markdown",
   "metadata": {},
   "source": [
    "Load the probabilities and predictions."
   ]
  },
  {
   "cell_type": "code",
   "execution_count": 48,
   "metadata": {},
   "outputs": [],
   "source": [
    "# Load \"data/probs.json\".\n",
    "with open('data/comb/probs.json', 'r') as f:\n",
    "    probs = json.load(f)\n",
    "\n",
    "# Load \"data/predictions.csv\".\n",
    "preds = []\n",
    "with open('data/comb/predictions.csv', 'r') as f:\n",
    "    reader = csv.reader(f)\n",
    "    \n",
    "    # Skip the header.\n",
    "    next(reader)\n",
    "    \n",
    "    # Read the predictions.\n",
    "    for row in reader:\n",
    "        splits = row[1].split()\n",
    "        preds.append(splits)"
   ]
  },
  {
   "cell_type": "markdown",
   "metadata": {},
   "source": [
    "Load the non-filtered test data."
   ]
  },
  {
   "cell_type": "code",
   "execution_count": 49,
   "metadata": {},
   "outputs": [
    {
     "name": "stdout",
     "output_type": "stream",
     "text": [
      "Normalizing text 100.00%\n",
      "Tokenizing... 100.00%\n"
     ]
    }
   ],
   "source": [
    "# Load \"data/test.csv\".\n",
    "test_data = DiacritizationDataset('data/test.csv', type='test', filter=False)\n",
    "\n",
    "# Normalize the train data.\n",
    "normalize(test_data)\n",
    "\n",
    "# Tokenize the train data.\n",
    "tokenize(test_data)\n",
    "\n",
    "length = len(test_data)"
   ]
  },
  {
   "cell_type": "markdown",
   "metadata": {},
   "source": [
    "Do the selection."
   ]
  },
  {
   "cell_type": "code",
   "execution_count": 50,
   "metadata": {},
   "outputs": [],
   "source": [
    "diacritized = []\n",
    "\n",
    "for i in range(length):\n",
    "    sent = test_data.get(i, 'und')\n",
    "    pred = preds[i]\n",
    "    \n",
    "    d = select(probs, sent, pred)\n",
    "    diacritized.append(d)"
   ]
  },
  {
   "cell_type": "markdown",
   "metadata": {},
   "source": [
    "Save the diacritisated outputs."
   ]
  },
  {
   "cell_type": "code",
   "execution_count": 51,
   "metadata": {},
   "outputs": [],
   "source": [
    "timestamp = dt.datetime.now().strftime('%Y%m%d%H%M%S')\n",
    "save_file = f'submits/{timestamp}.csv'\n",
    "\n",
    "with open(save_file, 'w', newline='') as file:\n",
    "    writer = csv.writer(file)\n",
    "    writer.writerow(['ID', 'Sentence'])\n",
    "    \n",
    "    for i, sentence in enumerate(diacritized):\n",
    "        if not sentence:\n",
    "            sentence = ' '\n",
    "        \n",
    "        writer.writerow([i, sentence])"
   ]
  }
 ],
 "metadata": {
  "kernelspec": {
   "display_name": ".venv",
   "language": "python",
   "name": "python3"
  },
  "language_info": {
   "codemirror_mode": {
    "name": "ipython",
    "version": 3
   },
   "file_extension": ".py",
   "mimetype": "text/x-python",
   "name": "python",
   "nbconvert_exporter": "python",
   "pygments_lexer": "ipython3",
   "version": "3.12.2"
  }
 },
 "nbformat": 4,
 "nbformat_minor": 2
}
